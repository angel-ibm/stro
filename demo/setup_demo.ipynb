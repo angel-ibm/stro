{
 "cells": [
  {
   "cell_type": "markdown",
   "metadata": {},
   "source": [
    "# Welcome\n",
    "\n",
    "This Demo Script can be found here:\n",
    "<https://github.com/angel-ibm/stro>\n",
    "\n",
    "and it is based on the technologies described on this lab:\n",
    "<https://ibm.github.io/watsonx-data-lab/>\n",
    "\n",
    "## Prerequisites\n",
    "\n",
    "You need to have access to the IBM TechZone <https://techzone.ibm.com> and need to provision this demo environment: <https://ibm.github.io/watsonx-data-lab/wxd-reference-techzone/>.\n",
    "\n",
    "The important sections are:\n",
    "\n",
    "- Jupyter:\n",
    "<https://ibm.github.io/watsonx-data-lab/wxd-jupyter/>\n",
    "\n",
    "- Kafka:\n",
    "<https://ibm.github.io/watsonx-data-lab/wxd-kafka/>\n",
    "\n",
    "- Milvus:\n",
    "<https://ibm.github.io/watsonx-data-lab/wxd-milvus/>\n",
    "\n",
    "Needless to say, the section dedicated to the watsonx.data UI is also essential to exercise the demo. It is recommended to review it and verify that it works as expected <https://ibm.github.io/watsonx-data-lab/wxd-intro-watsonui/>\n",
    "\n",
    "## Environment Setup\n",
    "\n",
    "- Get Jupyter up and running following the instructions of the lab. See:  \n",
    "  <https://ibm.github.io/watsonx-data-lab/wxd-jupyter/>\n",
    "  \n",
    "- Verify that Jupyter works well with watsonx.data running the notebook `Python Example.ipynb`\n",
    "\n",
    "- Change to the `Jupyter Lab` GUI, not the Jupyter Notebook:\n",
    "  \n",
    "![jupy1](../images/jupy1.png \"jupy1\")\n",
    "\n",
    "\n",
    "- Ensure to complete the setup of Milvus in the lab image. See:\n",
    "<https://ibm.github.io/watsonx-data-lab/wxd-milvus/>\n",
    "\n",
    "- Verify that Milvus works well by running the notebook `Milvus Example.ipynb`\n",
    "\n",
    "- Prepare Kafka follwing the instructions of the lab. See:\n",
    "   <https://ibm.github.io/watsonx-data-lab/wxd-kafka/>\n",
    "  \n",
    "- Verify Kafka  by running the notebook `Kafka.ipynb`\n",
    "\n",
    "## Demo Setup\n",
    "\n",
    "- Open the Jupyter Notebook interface\n",
    "- Switch to Jupyter Lab\n",
    "- Open a terminal\n",
    "- ensure that you are in /notebooks\n",
    "- Clone the repository: `git clone https://github.com/angel-ibm/stro.git`\n",
    "- Start the notebook `full_demo.ipynb`\n"
   ]
  },
  {
   "cell_type": "markdown",
   "metadata": {},
   "source": [
    "### Install pre-requisites"
   ]
  },
  {
   "cell_type": "code",
   "execution_count": null,
   "metadata": {},
   "outputs": [],
   "source": [
    "%system python3 -m pip install pymilvus confluent-kafka astropy scikit-image"
   ]
  }
 ],
 "metadata": {
  "kernelspec": {
   "display_name": "base",
   "language": "python",
   "name": "python3"
  },
  "language_info": {
   "codemirror_mode": {
    "name": "ipython",
    "version": 3
   },
   "file_extension": ".py",
   "mimetype": "text/x-python",
   "name": "python",
   "nbconvert_exporter": "python",
   "pygments_lexer": "ipython3",
   "version": "3.11.6"
  }
 },
 "nbformat": 4,
 "nbformat_minor": 2
}
