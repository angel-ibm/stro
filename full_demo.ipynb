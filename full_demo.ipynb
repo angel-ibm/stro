{
 "cells": [
  {
   "cell_type": "markdown",
   "metadata": {},
   "source": [
    "### Install pre-requisites"
   ]
  },
  {
   "cell_type": "code",
   "execution_count": null,
   "metadata": {},
   "outputs": [],
   "source": [
    "%system python3 -m pip install pymilvus confluent-kafka astropy scikit-image"
   ]
  },
  {
   "cell_type": "markdown",
   "metadata": {},
   "source": [
    "### Init Milvus"
   ]
  },
  {
   "cell_type": "markdown",
   "metadata": {},
   "source": [
    "This is preliminary stuff \n",
    "\n",
    "important PRESTO.CRT and PORT"
   ]
  },
  {
   "cell_type": "code",
   "execution_count": null,
   "metadata": {},
   "outputs": [],
   "source": [
    "rc = %system echo QUIT | openssl s_client -showcerts -connect watsonxdata:8443 | \\\n",
    "        awk '/-----BEGIN CERTIFICATE-----/ {p=1}; p; /-----END CERTIFICATE-----/ {p=0}' > ./presto.crt "
   ]
  },
  {
   "cell_type": "code",
   "execution_count": null,
   "metadata": {},
   "outputs": [],
   "source": [
    "import glob\n",
    "import numpy as np\n",
    "\n",
    "from pymilvus import(\n",
    "    Milvus,\n",
    "    IndexType,\n",
    "    Status,\n",
    "    connections,\n",
    "    FieldSchema,\n",
    "    DataType,\n",
    "    Collection,\n",
    "    CollectionSchema,\n",
    "    utility,\n",
    "    MilvusClient\n",
    ")\n",
    "\n",
    "from astropy.io import fits\n",
    "from skimage.transform import resize\n",
    "\n",
    "def connect_to_milvus() :\n",
    "    \n",
    "    host         = 'eu-de.services.cloud.techzone.ibm.com'\n",
    "    port         = 25782        # <----------- write the external Milvus port here. You get this in your reservation\n",
    "    user         = 'ibmlhadmin'\n",
    "    key          = 'password'\n",
    "    server_pem_path = 'presto.crt'\n",
    "    connections.connect(alias='default',\n",
    "                       host=host,\n",
    "                       port=port,\n",
    "                       user=user,\n",
    "                       password=key,\n",
    "                       server_pem_path=server_pem_path,\n",
    "                       server_name='watsonxdata',\n",
    "                       secure=True)  \n",
    "\n",
    "def create_collection():\n",
    "    \n",
    "    utility.drop_collection(\"image_embeddings\")\n",
    "    \n",
    "    fields = [\n",
    "        FieldSchema(name=\"id\", dtype=DataType.INT64, is_primary=True, auto_id=True),\n",
    "        FieldSchema(name=\"file_path\", dtype=DataType.VARCHAR, max_length=128),\n",
    "        FieldSchema(name=\"embedding\", dtype=DataType.FLOAT_VECTOR, dim=16600)       \n",
    "    ]\n",
    "    schema = CollectionSchema(fields, \"Embedding of FITS image file\")\n",
    "    \n",
    "    fits_coll = Collection(\"image_embeddings\", schema)\n",
    "\n",
    "    index_params = {\n",
    "            'metric_type':'L2',\n",
    "            'index_type':\"IVF_FLAT\",\n",
    "            'params':{\"nlist\":2048}\n",
    "    }\n",
    "    fits_coll.create_index(field_name=\"embedding\", index_params=index_params)\n",
    "\n",
    "    fits_coll.flush()\n",
    "    \n",
    "    return(fits_coll)\n",
    "\n",
    "def load_fits_file(file_path) :\n",
    "    \n",
    "    with fits.open(file_path) as hdul:\n",
    "   \n",
    "        image_data = hdul[0].data\n",
    "        image_resized = resize(image_data, (166, 100), mode='reflect')\n",
    "\n",
    "    return (image_resized ) \n",
    "\n",
    "def generate_embedding(image_data) : \n",
    "    \n",
    "    embedding = image_data.flatten()\n",
    "    embedding = embedding / np.linalg.norm(embedding)  \n",
    "    \n",
    "    return embedding\n",
    "    \n",
    "def insert_embedding(fits_coll, file_path, embedding):\n",
    "\n",
    "    fits_coll.insert([[file_path], [embedding]])\n",
    "    fits_coll.load()\n",
    "\n",
    "def initialize_collection():\n",
    "    fits_coll = create_collection()\n",
    "    file_paths = glob.glob(\"./images/m31*.FITS\")\n",
    "    for image_file in sorted(file_paths):\n",
    "        print(\"Inserting file: \", image_file)\n",
    "        image_data = load_fits_file(image_file)\n",
    "        embedding_vector = generate_embedding(image_data)\n",
    "        insert_embedding(fits_coll, image_file, embedding_vector)\n",
    "    return fits_coll"
   ]
  },
  {
   "cell_type": "markdown",
   "metadata": {},
   "source": [
    "Now, the action begins"
   ]
  },
  {
   "cell_type": "code",
   "execution_count": null,
   "metadata": {},
   "outputs": [],
   "source": [
    "connect_to_milvus()\n",
    "fits_coll = initialize_collection()\n",
    "connections.disconnect(alias=\"default\")"
   ]
  }
 ],
 "metadata": {
  "kernelspec": {
   "display_name": "base",
   "language": "python",
   "name": "python3"
  },
  "language_info": {
   "codemirror_mode": {
    "name": "ipython",
    "version": 3
   },
   "file_extension": ".py",
   "mimetype": "text/x-python",
   "name": "python",
   "nbconvert_exporter": "python",
   "pygments_lexer": "ipython3",
   "version": "3.11.6"
  }
 },
 "nbformat": 4,
 "nbformat_minor": 2
}
