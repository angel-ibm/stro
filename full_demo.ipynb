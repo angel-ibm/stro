{
 "cells": [
  {
   "cell_type": "markdown",
   "metadata": {},
   "source": []
  },
  {
   "cell_type": "markdown",
   "metadata": {},
   "source": [
    "# Welcome\n",
    "\n",
    "This notebook can be found here:\n",
    "https://github.com/angel-ibm/stro\n",
    "\n",
    "and it is based on the technologies described on this lab:\n",
    "https://ibm.github.io/watsonx-data-lab/\n"
   ]
  },
  {
   "cell_type": "markdown",
   "metadata": {},
   "source": [
    "## Prerequisites\n",
    "\n",
    "Provision this demo environment: \n",
    "https://ibm.github.io/watsonx-data-lab/wxd-reference-techzone/\n",
    "\n",
    "The important sections are:\n",
    "\n",
    "- Jupyter:\n",
    "https://ibm.github.io/watsonx-data-lab/wxd-jupyter/\n",
    "\n",
    "- Kafka:\n",
    "https://ibm.github.io/watsonx-data-lab/wxd-kafka/\n",
    "\n",
    "\n",
    "- Milvus:\n",
    "https://ibm.github.io/watsonx-data-lab/wxd-milvus/\n"
   ]
  },
  {
   "cell_type": "markdown",
   "metadata": {
    "vscode": {
     "languageId": "plaintext"
    }
   },
   "source": [
    "## Setup\n",
    "\n",
    "- Get Jupyter up and running following the instructions of the lab. See:  \n",
    "  https://ibm.github.io/watsonx-data-lab/wxd-jupyter/\n",
    "  \n",
    "- Verify that Jupyter works well with watsonx.data running the notebook `Python Example.ipynb`\n",
    "\n",
    "- Ensure to complete the setup of Milvus in the lab image. See:\n",
    "https://ibm.github.io/watsonx-data-lab/wxd-milvus/\n",
    "\n",
    "- Verify that Milvus works well by running the notebook `Milvus Example.ipynb`\n",
    "\n",
    "- Prepare Kafka follwing the instructions of the lab. See:\n",
    "   https://ibm.github.io/watsonx-data-lab/wxd-kafka/\n",
    "  \n",
    "- Verify Kafka  by running the notebook `Kafka.ipynb`\n",
    "\n",
    "\n"
   ]
  }
 ],
 "metadata": {
  "language_info": {
   "name": "python"
  }
 },
 "nbformat": 4,
 "nbformat_minor": 2
}
