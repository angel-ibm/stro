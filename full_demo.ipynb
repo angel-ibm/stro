{
 "cells": [
  {
   "cell_type": "markdown",
   "metadata": {},
   "source": [
    "### Install pre-requisites"
   ]
  },
  {
   "cell_type": "code",
   "execution_count": null,
   "metadata": {},
   "outputs": [],
   "source": [
    "%system python3 -m pip install pymilvus confluent-kafka astropy scikit-image"
   ]
  },
  {
   "cell_type": "markdown",
   "metadata": {},
   "source": [
    "### Init Milvus"
   ]
  },
  {
   "cell_type": "markdown",
   "metadata": {},
   "source": [
    "This is preliminary stuff \n",
    "\n",
    "important PRESTO.CRT and PORT"
   ]
  },
  {
   "cell_type": "code",
   "execution_count": null,
   "metadata": {},
   "outputs": [],
   "source": [
    "rc = %system echo QUIT | openssl s_client -showcerts -connect watsonxdata:8443 | \\\n",
    "        awk '/-----BEGIN CERTIFICATE-----/ {p=1}; p; /-----END CERTIFICATE-----/ {p=0}' > ./presto.crt "
   ]
  },
  {
   "cell_type": "code",
   "execution_count": null,
   "metadata": {},
   "outputs": [],
   "source": [
    "import glob\n",
    "import numpy as np\n",
    "\n",
    "from pymilvus import(\n",
    "    Milvus,\n",
    "    IndexType,\n",
    "    Status,\n",
    "    connections,\n",
    "    FieldSchema,\n",
    "    DataType,\n",
    "    Collection,\n",
    "    CollectionSchema,\n",
    "    utility,\n",
    "    MilvusClient\n",
    ")\n",
    "\n",
    "from astropy.io import fits\n",
    "from skimage.transform import resize\n",
    "\n",
    "def connect_to_milvus() :\n",
    "    \n",
    "    host         = 'eu-de.services.cloud.techzone.ibm.com'\n",
    "    port         = 25782        # <----------- write the external Milvus port here. You get this in your reservation\n",
    "    user         = 'ibmlhadmin'\n",
    "    key          = 'password'\n",
    "    server_pem_path = 'presto.crt'\n",
    "    connections.connect(alias='default',\n",
    "                       host=host,\n",
    "                       port=port,\n",
    "                       user=user,\n",
    "                       password=key,\n",
    "                       server_pem_path=server_pem_path,\n",
    "                       server_name='watsonxdata',\n",
    "                       secure=True)  \n",
    "\n",
    "def create_collection():\n",
    "    \n",
    "    utility.drop_collection(\"image_embeddings\")\n",
    "    \n",
    "    fields = [\n",
    "        FieldSchema(name=\"id\", dtype=DataType.INT64, is_primary=True, auto_id=True),\n",
    "        FieldSchema(name=\"file_path\", dtype=DataType.VARCHAR, max_length=128),\n",
    "        FieldSchema(name=\"embedding\", dtype=DataType.FLOAT_VECTOR, dim=16600)       \n",
    "    ]\n",
    "    schema = CollectionSchema(fields, \"Embedding of FITS image file\")\n",
    "    \n",
    "    fits_coll = Collection(\"image_embeddings\", schema)\n",
    "\n",
    "    index_params = {\n",
    "            'metric_type':'L2',\n",
    "            'index_type':\"IVF_FLAT\",\n",
    "            'params':{\"nlist\":2048}\n",
    "    }\n",
    "    fits_coll.create_index(field_name=\"embedding\", index_params=index_params)\n",
    "\n",
    "    fits_coll.flush()\n",
    "    \n",
    "    return(fits_coll)\n",
    "\n",
    "def load_fits_file(file_path) :\n",
    "    \n",
    "    with fits.open(file_path) as hdul:\n",
    "   \n",
    "        image_data = hdul[0].data\n",
    "        image_resized = resize(image_data, (166, 100), mode='reflect')\n",
    "\n",
    "    return (image_resized ) \n",
    "\n",
    "def generate_embedding(image_data) : \n",
    "    \n",
    "    embedding = image_data.flatten()\n",
    "    embedding = embedding / np.linalg.norm(embedding)  \n",
    "    \n",
    "    return embedding\n",
    "    \n",
    "def insert_embedding(fits_coll, file_path, embedding):\n",
    "\n",
    "    fits_coll.insert([[file_path], [embedding]])\n",
    "    fits_coll.load()\n",
    "\n",
    "def initialize_collection():\n",
    "    fits_coll = create_collection()\n",
    "    file_paths = glob.glob(\"./images/m31*.FITS\")\n",
    "    for image_file in sorted(file_paths):\n",
    "        print(\"Inserting file: \", image_file)\n",
    "        image_data = load_fits_file(image_file)\n",
    "        embedding_vector = generate_embedding(image_data)\n",
    "        insert_embedding(fits_coll, image_file, embedding_vector)\n",
    "    return fits_coll"
   ]
  },
  {
   "cell_type": "markdown",
   "metadata": {},
   "source": [
    "Now, the action begins"
   ]
  },
  {
   "cell_type": "code",
   "execution_count": null,
   "metadata": {},
   "outputs": [],
   "source": [
    "connect_to_milvus()\n",
    "fits_coll = initialize_collection()\n",
    "connections.disconnect(alias=\"default\")"
   ]
  },
  {
   "cell_type": "markdown",
   "metadata": {},
   "source": [
    "### Init watsonx.data"
   ]
  },
  {
   "cell_type": "markdown",
   "metadata": {},
   "source": [
    "Preliminary stuff"
   ]
  },
  {
   "cell_type": "code",
   "execution_count": null,
   "metadata": {},
   "outputs": [],
   "source": [
    "import base64\n",
    "import prestodb\n",
    "import glob\n",
    "\n",
    "import numpy as np\n",
    "import pandas as pd\n",
    "\n",
    "def connect_to_watsonxdata() :\n",
    "\n",
    "    # Connection Parameters\n",
    "    userid     = 'ibmlhadmin'\n",
    "    password   = 'password'\n",
    "    hostname   = 'watsonxdata'\n",
    "    port       = '8443'\n",
    "    catalog    = 'tpch'\n",
    "    schema     = 'tiny'\n",
    "    certfile   = \"/certs/lh-ssl-ts.crt\"\n",
    "\n",
    "    # Connect Statement\n",
    "    try:\n",
    "        wxdconnection = prestodb.dbapi.connect(\n",
    "                host=hostname,\n",
    "                port=port,\n",
    "                user=userid,\n",
    "                catalog=catalog,\n",
    "                schema=schema,\n",
    "                http_scheme='https',\n",
    "                auth=prestodb.auth.BasicAuthentication(userid, password)\n",
    "        )\n",
    "        if (certfile != None):\n",
    "            wxdconnection._http_session.verify = certfile\n",
    "        print(\"Connection successful\")\n",
    "        return wxdconnection\n",
    "    except Exception as e:\n",
    "        print(\"Unable to connect to the database.\")\n",
    "        print(repr(e))\n",
    "\n",
    "def create_staging_table(wxdconnection) :\n",
    "\n",
    "    cursor = wxdconnection.cursor()\n",
    "\n",
    "    sql = '''\n",
    "        CREATE SCHEMA IF NOT EXISTS \n",
    "            iceberg_data.fits \n",
    "        WITH (location = 's3a://iceberg-bucket/fits') \n",
    "    '''\n",
    "    try:\n",
    "        cursor.execute(sql)\n",
    "    except Exception as err:\n",
    "        print(repr(err))\n",
    "    \n",
    "    sql = '''\n",
    "        DROP TABLE IF EXISTS \n",
    "            iceberg_data.fits.\"fits-images\"\n",
    "    '''\n",
    "    try:\n",
    "        cursor.execute(sql)\n",
    "    except Exception as err:\n",
    "        print(repr(err))\n",
    "        \n",
    "    sql = '''\n",
    "        CREATE TABLE \n",
    "            iceberg_data.fits.\"fits-images\" (\n",
    "                filename   VARCHAR,\n",
    "                filebytes  VARCHAR\n",
    "            )\n",
    "    '''\n",
    "    try:\n",
    "        cursor.execute(sql)\n",
    "    except Exception as err:\n",
    "        print(repr(err))\n",
    "\n",
    "    cursor.close()\n",
    "\n",
    "def insert_file(wxdconnection, image_file):\n",
    "\n",
    "    with open(image_file, 'rb') as file:\n",
    "        file_content = file.read()\n",
    "\n",
    "    encoded_file_content = base64.b64encode(file_content).decode('utf-8')\n",
    "\n",
    "    cursor = wxdconnection.cursor()\n",
    "\n",
    "    # I know this is a crime\n",
    "    sql = f'''\n",
    "        INSERT INTO iceberg_data.fits.\"fits-images\" (filename, filebytes)\n",
    "        VALUES ( '{image_file}', '{encoded_file_content}' )\n",
    "    '''  \n",
    "\n",
    "    try:\n",
    "        cursor.execute(sql)\n",
    "        wxdconnection.commit() \n",
    "    except Exception as err:\n",
    "        print(f\"Error executing SQL: {repr(err)}\")\n",
    "    finally:\n",
    "        cursor.close()  "
   ]
  },
  {
   "cell_type": "markdown",
   "metadata": {},
   "source": [
    "Now the action begins"
   ]
  },
  {
   "cell_type": "code",
   "execution_count": null,
   "metadata": {},
   "outputs": [],
   "source": [
    "wxdconnection = connect_to_watsonxdata()\n",
    "\n",
    "create_staging_table(wxdconnection)\n",
    "\n",
    "file_paths = glob.glob(\"./images/m31*.FITS\")\n",
    "for image_file in sorted(file_paths):\n",
    "        print(\"Inserting file: \", image_file)\n",
    "        insert_file(wxdconnection,image_file)"
   ]
  }
 ],
 "metadata": {
  "kernelspec": {
   "display_name": "base",
   "language": "python",
   "name": "python3"
  },
  "language_info": {
   "codemirror_mode": {
    "name": "ipython",
    "version": 3
   },
   "file_extension": ".py",
   "mimetype": "text/x-python",
   "name": "python",
   "nbconvert_exporter": "python",
   "pygments_lexer": "ipython3",
   "version": "3.11.6"
  }
 },
 "nbformat": 4,
 "nbformat_minor": 2
}
